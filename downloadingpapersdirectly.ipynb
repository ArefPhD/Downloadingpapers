{
  "nbformat": 4,
  "nbformat_minor": 0,
  "metadata": {
    "colab": {
      "private_outputs": true,
      "provenance": [],
      "toc_visible": true
    },
    "kernelspec": {
      "name": "python3",
      "display_name": "Python 3"
    },
    "language_info": {
      "name": "python"
    }
  },
  "cells": [
    {
      "cell_type": "code",
      "execution_count": null,
      "metadata": {
        "id": "g-hifTpJHoQL"
      },
      "outputs": [],
      "source": [
        "!pip install git+https://github.com/ferru97/PyPaperBot.git\n"
      ]
    },
    {
      "cell_type": "markdown",
      "source": [
        "# New Section"
      ],
      "metadata": {
        "id": "vuZ77Pb4S1Zl"
      }
    },
    {
      "cell_type": "code",
      "source": [
        "pip install PyPaperBot\n"
      ],
      "metadata": {
        "id": "w7xRHFgWSCNi"
      },
      "execution_count": null,
      "outputs": []
    },
    {
      "cell_type": "code",
      "source": [
        "!python -m PyPaperBot --query=\"Machine learning\" --scholar-pages=4-7 --dwn-dir=\"/content/example/papers\"\n"
      ],
      "metadata": {
        "id": "kObvG2DTOnkN"
      },
      "execution_count": null,
      "outputs": []
    },
    {
      "cell_type": "code",
      "source": [
        "from google.colab import files\n",
        "import subprocess\n",
        "\n",
        "# Run the PyPaperBot command\n",
        "subprocess.run([\"python\", \"-m\", \"PyPaperBot\", \"--query=Machine learning\", \"--scholar-pages=4-4\", \"--dwn-dir=/content/example/papers\"])\n",
        "\n",
        "# Download the list of email addresses\n",
        "files.download('/content/example/papers/example.txt')"
      ],
      "metadata": {
        "id": "7Wb-LcQtWrKr"
      },
      "execution_count": null,
      "outputs": []
    },
    {
      "cell_type": "code",
      "source": [
        "from google.colab import drive\n",
        "drive.mount('/content/drive')"
      ],
      "metadata": {
        "id": "gYyg0Hj3ReTm"
      },
      "execution_count": null,
      "outputs": []
    },
    {
      "cell_type": "code",
      "source": [
        "download_dir = '/content/drive/MyDrive/Papers'"
      ],
      "metadata": {
        "id": "jMGaADwWTObx"
      },
      "execution_count": null,
      "outputs": []
    }
  ]
}