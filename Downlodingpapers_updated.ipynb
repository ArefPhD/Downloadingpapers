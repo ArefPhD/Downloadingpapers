{
  "nbformat": 4,
  "nbformat_minor": 0,
  "metadata": {
    "colab": {
      "private_outputs": true,
      "provenance": [],
      "toc_visible": true
    },
    "kernelspec": {
      "name": "python3",
      "display_name": "Python 3"
    },
    "language_info": {
      "name": "python"
    }
  },
  "cells": [
    {
      "cell_type": "code",
      "execution_count": null,
      "metadata": {
        "id": "g-hifTpJHoQL"
      },
      "outputs": [],
      "source": [
        "!pip install git+https://github.com/ferru97/PyPaperBot.git\n"
      ]
    },
    {
      "cell_type": "markdown",
      "source": [
        "# New Section"
      ],
      "metadata": {
        "id": "vuZ77Pb4S1Zl"
      }
    },
    {
      "cell_type": "code",
      "source": [
        "pip install PyPaperBot\n"
      ],
      "metadata": {
        "id": "w7xRHFgWSCNi"
      },
      "execution_count": null,
      "outputs": []
    },
    {
      "cell_type": "code",
      "source": [
        "!python -m PyPaperBot --query=\"Machine learning\" --scholar-pages=4-7 --dwn-dir=\"/content/example/papers\"\n"
      ],
      "metadata": {
        "id": "kObvG2DTOnkN"
      },
      "execution_count": null,
      "outputs": []
    },
    {
      "cell_type": "code",
      "source": [
        "from google.colab import files\n",
        "import subprocess\n",
        "\n",
        "# Run the PyPaperBot command\n",
        "subprocess.run([\"python\", \"-m\", \"PyPaperBot\", \"--query=Machine learning\", \"--scholar-pages=4-4\", \"--dwn-dir=/content/example/papers\"])\n",
        "\n",
        "# Download the list of email addresses\n",
        "files.download('/content/example/papers/example.txt')"
      ],
      "metadata": {
        "id": "7Wb-LcQtWrKr"
      },
      "execution_count": null,
      "outputs": []
    },
    {
      "cell_type": "code",
      "source": [
        "from google.colab import files\n",
        "\n",
        "# Define the DOI and download directory\n",
        "doi = \"10.1016/j.fuel.2022.123372\"\n",
        "download_directory = \"/content/example/papers\"\n",
        "\n",
        "# Run the PyPaperBot command\n",
        "subprocess.run([\"python\", \"-m\", \"PyPaperBot\", \"--doi\", doi, \"--dwn-dir\", download_directory])\n",
        "\n",
        "# Find the downloaded paper filename\n",
        "filename = subprocess.check_output([\"ls\", download_directory]).decode().strip()\n",
        "\n",
        "# Download the paper file\n",
        "files.download(f\"{download_directory}/{filename}\")"
      ],
      "metadata": {
        "id": "5vHrPdVOYQN2"
      },
      "execution_count": null,
      "outputs": []
    },
    {
      "cell_type": "code",
      "source": [
        "import subprocess\n",
        "import os\n",
        "from google.colab import files\n",
        "\n",
        "# Define the DOI and download directory\n",
        "doi = \"10.0086/s41037-711-0132-1\"\n",
        "download_directory = \"/content/example/papers\"\n",
        "\n",
        "# Create the download directory if it doesn't exist\n",
        "os.makedirs(download_directory, exist_ok=True)\n",
        "\n",
        "# Run the PyPaperBot command\n",
        "subprocess.run([\"python\", \"-m\", \"PyPaperBot\", \"--doi\", doi, \"--dwn-dir\", download_directory])\n",
        "\n",
        "# Find the downloaded paper filename\n",
        "files_list = os.listdir(download_directory)\n",
        "if len(files_list) > 0:\n",
        "    filename = files_list[0]\n",
        "else:\n",
        "    raise FileNotFoundError(\"No files found in the download directory.\")\n",
        "\n",
        "# Download the paper file\n",
        "files.download(os.path.join(download_directory, filename))\n"
      ],
      "metadata": {
        "id": "gYyg0Hj3ReTm"
      },
      "execution_count": null,
      "outputs": []
    },
    {
      "cell_type": "code",
      "source": [
        "download_dir = '/content/drive/MyDrive/Papers'"
      ],
      "metadata": {
        "id": "jMGaADwWTObx"
      },
      "execution_count": null,
      "outputs": []
    }
  ]
}